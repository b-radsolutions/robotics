{
 "cells": [
  {
   "cell_type": "code",
   "execution_count": 10,
   "metadata": {},
   "outputs": [],
   "source": [
    "import numpy as np\n",
    "import time\n",
    "from general_robotics_toolbox import fwdkin, Robot\n",
    "import general_robotics_toolbox as rox"
   ]
  },
  {
   "cell_type": "code",
   "execution_count": 11,
   "metadata": {},
   "outputs": [],
   "source": [
    "from Arm_Lib import Arm_Device"
   ]
  },
  {
   "cell_type": "code",
   "execution_count": 54,
   "metadata": {},
   "outputs": [],
   "source": [
    "arm = Arm_Device()"
   ]
  },
  {
   "cell_type": "code",
   "execution_count": 55,
   "metadata": {},
   "outputs": [],
   "source": [
    "def moveJoint(arm,jnum,ang,speedtime):\n",
    "    \"\"\"\n",
    "    function used to move the specified joint to the given position\n",
    "    moveJoint(jnum, ang, speedtime) moves joint jnum to position ang degrees in speedtime milliseconds\n",
    "    function returns nothing\n",
    "    \"\"\"\n",
    "    # call the function to move joint number jnum to ang degrees in speedtime milliseconds\n",
    "    arm.Arm_serial_servo_write(jnum,ang,speedtime)\n",
    "    return"
   ]
  },
  {
   "cell_type": "code",
   "execution_count": 60,
   "metadata": {},
   "outputs": [],
   "source": [
    "def set_angles(arm, angles):\n",
    "    for joint, angle in enumerate(angles):\n",
    "        moveJoint(arm, joint, angle, 1000)\n",
    "set_angles(arm, np.array([60,60,60,60,60,60]))"
   ]
  },
  {
   "cell_type": "code",
   "execution_count": 61,
   "metadata": {},
   "outputs": [
    {
     "name": "stdout",
     "output_type": "stream",
     "text": [
      "[60 60 59 59 60 59]\n",
      "[89 91 90 90 89 89]\n"
     ]
    }
   ],
   "source": [
    "def initDofbot():\n",
    "    q = readAllActualJointAngles()\n",
    "    print(q)\n",
    "    set_angles(arm, np.ones(shape=(6,1))*90)\n",
    "    time.sleep(1.1)\n",
    "    q = readAllActualJointAngles()\n",
    "    print(q)\n",
    "    \n",
    "    H = np.array([\n",
    "        [0,0,1],\n",
    "        [0,-1,0],\n",
    "        [0,-1,0],\n",
    "        [0,-1,0],\n",
    "        [-1,0,0]\n",
    "    ]).T\n",
    "    \n",
    "    # define joint lengths\n",
    "    l0 = 61 * 10**-3\n",
    "    l1 = 43.5 * 10**-3\n",
    "    l2 = 82.85 * 10**-3\n",
    "    l3 = 82.85 * 10**-3\n",
    "    l4 = 73.85 * 10**-3\n",
    "    l5 = 54.57 * 10**-3\n",
    "    \n",
    "    # position vectors from i-1 to 1\n",
    "    P = np.array([\n",
    "        [0, 0, l0],\n",
    "        [0, 0, l0+l1],\n",
    "        [0, 0, l0+l1+l2],\n",
    "        [0, 0, l0+l1+l2+l3],\n",
    "        [0, 0, l0+l1+l2+l3+l4],\n",
    "        [0, 0, l0+l1+l2+l3+l4+l5],\n",
    "    ]).T\n",
    "    \n",
    "    joint_type = [0, 0, 0, 0, 0]\n",
    "    \n",
    "    return Robot(H, P, joint_type)\n",
    "\n",
    "dofbot = initDofbot()"
   ]
  },
  {
   "cell_type": "code",
   "execution_count": 62,
   "metadata": {},
   "outputs": [
    {
     "name": "stdout",
     "output_type": "stream",
     "text": [
      "[[ 23.24824604]\n",
      " [192.11048481]\n",
      " [133.20002988]\n",
      " [ 77.47179236]\n",
      " [250.87865147]\n",
      " [114.13986795]]\n"
     ]
    }
   ],
   "source": [
    "theta = np.random.rand(6,1)*360\n",
    "print(theta)"
   ]
  },
  {
   "cell_type": "code",
   "execution_count": 63,
   "metadata": {},
   "outputs": [
    {
     "name": "stdout",
     "output_type": "stream",
     "text": [
      "R = [[-0.2441  0.9389 -0.2426]\n",
      "     [-0.7523 -0.0255  0.6583]\n",
      "     [ 0.6119  0.3432  0.7126]]\n",
      "p = [-0.1404  0.1275  0.5968]\n",
      "\n",
      "\n"
     ]
    }
   ],
   "source": [
    "end_effector_pose = fwdkin(dofbot, theta)\n",
    "print(end_effector_pose)"
   ]
  },
  {
   "cell_type": "code",
   "execution_count": null,
   "metadata": {},
   "outputs": [],
   "source": []
  }
 ],
 "metadata": {
  "kernelspec": {
   "display_name": "Python 3",
   "language": "python",
   "name": "python3"
  },
  "language_info": {
   "codemirror_mode": {
    "name": "ipython",
    "version": 3
   },
   "file_extension": ".py",
   "mimetype": "text/x-python",
   "name": "python",
   "nbconvert_exporter": "python",
   "pygments_lexer": "ipython3",
   "version": "3.6.9"
  }
 },
 "nbformat": 4,
 "nbformat_minor": 4
}
