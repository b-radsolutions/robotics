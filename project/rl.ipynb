{
 "cells": [
  {
   "cell_type": "code",
   "execution_count": 19,
   "id": "d1df7279-b580-461d-87eb-99789cec93f8",
   "metadata": {},
   "outputs": [],
   "source": [
    "import numpy as np\n",
    "import math\n",
    "import random\n",
    "import matplotlib\n",
    "import matplotlib.pyplot as plt\n",
    "\n",
    "import torch\n",
    "import torch.nn as nn\n",
    "import torch.optim as optim\n",
    "import torch.nn.functional as F\n",
    "import time"
   ]
  },
  {
   "cell_type": "code",
   "execution_count": 16,
   "id": "bd6089f1-7186-40e9-9fbe-62b9ecc84e96",
   "metadata": {},
   "outputs": [
    {
     "ename": "FileNotFoundError",
     "evalue": "[Errno 2] No such file or directory",
     "output_type": "error",
     "traceback": [
      "\u001b[0;31m---------------------------------------------------------------------------\u001b[0m",
      "\u001b[0;31mFileNotFoundError\u001b[0m                         Traceback (most recent call last)",
      "Cell \u001b[0;32mIn[16], line 2\u001b[0m\n\u001b[1;32m      1\u001b[0m \u001b[38;5;28;01mfrom\u001b[39;00m \u001b[38;5;21;01mArm_Lib\u001b[39;00m \u001b[38;5;28;01mimport\u001b[39;00m Arm_Device\n\u001b[0;32m----> 2\u001b[0m Arm \u001b[38;5;241m=\u001b[39m \u001b[43mArm_Device\u001b[49m\u001b[43m(\u001b[49m\u001b[43m)\u001b[49m  \u001b[38;5;66;03m# Get DOFBOT object\u001b[39;00m\n",
      "File \u001b[0;32m~/miniconda3/lib/python3.10/site-packages/Arm_Lib/Arm_Lib.py:11\u001b[0m, in \u001b[0;36mArm_Device.__init__\u001b[0;34m(self)\u001b[0m\n\u001b[1;32m      9\u001b[0m \u001b[38;5;28;01mdef\u001b[39;00m \u001b[38;5;21m__init__\u001b[39m(\u001b[38;5;28mself\u001b[39m):\n\u001b[1;32m     10\u001b[0m     \u001b[38;5;28mself\u001b[39m\u001b[38;5;241m.\u001b[39maddr \u001b[38;5;241m=\u001b[39m \u001b[38;5;241m0x15\u001b[39m\n\u001b[0;32m---> 11\u001b[0m     \u001b[38;5;28mself\u001b[39m\u001b[38;5;241m.\u001b[39mbus \u001b[38;5;241m=\u001b[39m \u001b[43msmbus\u001b[49m\u001b[38;5;241;43m.\u001b[39;49m\u001b[43mSMBus\u001b[49m\u001b[43m(\u001b[49m\u001b[38;5;241;43m1\u001b[39;49m\u001b[43m)\u001b[49m\n",
      "\u001b[0;31mFileNotFoundError\u001b[0m: [Errno 2] No such file or directory"
     ]
    }
   ],
   "source": [
    "from Arm_Lib import Arm_Device\n",
    "Arm = Arm_Device()  # Get DOFBOT object"
   ]
  },
  {
   "cell_type": "code",
   "execution_count": 17,
   "id": "545d0884-faf8-40f2-8889-026cee5f852e",
   "metadata": {},
   "outputs": [
    {
     "data": {
      "text/plain": [
       "<contextlib.ExitStack at 0x7f55d5326b90>"
      ]
     },
     "execution_count": 17,
     "metadata": {},
     "output_type": "execute_result"
    }
   ],
   "source": [
    "# set up matplotlib\n",
    "is_ipython = 'inline' in matplotlib.get_backend()\n",
    "if is_ipython:\n",
    "    from IPython import display\n",
    "\n",
    "plt.ion()"
   ]
  },
  {
   "cell_type": "markdown",
   "id": "3ae9fd3b-8c6c-40b2-a2d1-b919368f96d3",
   "metadata": {},
   "source": [
    "Defines Arm related functions for moving the arm. "
   ]
  },
  {
   "cell_type": "code",
   "execution_count": 20,
   "id": "8f5d5f8e-21f2-4536-97e5-3651c0072333",
   "metadata": {},
   "outputs": [],
   "source": [
    "def set_angles(arm, angles, t):\n",
    "    \"\"\"Sets all the angles of arm\n",
    "    Args:\n",
    "        arm - the real robot\n",
    "        angles - the angles to set\n",
    "        t - the amount of time to move each angle\n",
    "    \"\"\"\n",
    "    for joint, (angle, movetime) in enumerate(zip(angles, t)):\n",
    "        arm.Arm_serial_servo_write(joint+1, angle, movetime)\n",
    "\n",
    "def readAllActualJointAngles(arm):\n",
    "    q = np.array([arm.Arm_serial_servo_read(id) for id in range(1,6)])\n",
    "    return q"
   ]
  },
  {
   "cell_type": "code",
   "execution_count": null,
   "id": "44ba3c97-ac8e-4d98-8ddf-958933a56a7f",
   "metadata": {},
   "outputs": [],
   "source": [
    "import time #import the time module. Used for adding pauses during operation\n",
    "from Arm_Lib import Arm_Device #import the module associated with the arm\n",
    "\n",
    "from general_robotics_toolbox import fwdkin, Robot\n",
    "import general_robotics_toolbox as rox"
   ]
  },
  {
   "cell_type": "code",
   "execution_count": null,
   "id": "393a7989-bfa5-4d5a-83e8-eecb56acdb94",
   "metadata": {},
   "outputs": [],
   "source": [
    "# search for gpu\n",
    "device = torch.device(\"cuda\" if torch.cude.is_available() else \"cpu\")\n",
    "print(f'Using {device} (device)\")"
   ]
  },
  {
   "cell_type": "markdown",
   "id": "8438eb14-254f-40b9-8c34-e270ae5004bd",
   "metadata": {},
   "source": [
    "Define the architechure for the Actor and Critic Networks"
   ]
  },
  {
   "cell_type": "code",
   "execution_count": null,
   "id": "811b64d3-fc62-49cc-8030-2994efb8cb7c",
   "metadata": {},
   "outputs": [],
   "source": [
    "# define the neural networks\n",
    "\"\"\"\n",
    "The neural network learns an approximation of the value function\n",
    "with a neural network\n",
    "\"\"\"\n",
    "class DQN(nn.Module):\n",
    "    def __init__(self):\n",
    "        super().__init()\n",
    "        \n",
    "    def forward(self, x):\n",
    "        pass\n"
   ]
  },
  {
   "cell_type": "markdown",
   "id": "4eff1240-6b5a-407e-bb44-909b923309fb",
   "metadata": {},
   "source": [
    "Initialize Dofbot"
   ]
  },
  {
   "cell_type": "code",
   "execution_count": 4,
   "id": "2556ab86-4f50-47ed-9fb6-f82d94cf9e83",
   "metadata": {},
   "outputs": [
    {
     "name": "stdout",
     "output_type": "stream",
     "text": [
      "[0.     0.     0.1045] [0. 0. 0.] [0.08285 0.      0.     ] [-0.      -0.      -0.08285] [0. 0. 0.] [-0.12842 -0.      -0.     ]\n",
      "[[ 0.       0.       0.08285 -0.       0.      -0.12842]\n",
      " [ 0.       0.       0.      -0.       0.      -0.     ]\n",
      " [ 0.1045   0.       0.      -0.08285  0.      -0.     ]] [[ 0  0  0  0 -1]\n",
      " [ 0 -1 -1 -1  0]\n",
      " [ 1  0  0  0  0]]\n",
      "[[  0 180]\n",
      " [  0 180]\n",
      " [  0 180]\n",
      " [  0 180]\n",
      " [  0 270]\n",
      " [  0 180]]\n"
     ]
    }
   ],
   "source": [
    "ex = np.array([1,0,0])\n",
    "ey = np.array([0,1,0])\n",
    "ez = np.array([0,0,1])\n",
    "l0 = 0.061 # base to servo 1\n",
    "l1 = 0.0435 # servo 1 to servo 2\n",
    "l2 = 0.08285 # servo 2 to servo 3\n",
    "l3 = 0.08285 # servo 3 to servo 4\n",
    "l4 = 0.07385 # servo 4 to servo 5\n",
    "l5 = 0.05457 # servo 5 to gripper\n",
    "P01 = ( l0 + l1 ) * ez \n",
    "P12 = np.zeros (3) # translation between 1 and 2 frame in 1 frame\n",
    "P23 = l2 * ex # translation between 2 and 3 frame in 2 frame\n",
    "P34 = - l3 * ez # translation between 3 and 4 frame in 3 frame\n",
    "P45 = np.zeros (3) # translation between 4 and 5 frame in 4 frame\n",
    "P5T = -( l4 + l5 ) * ex \n",
    "print(P01,P12,P23,P34,P45,P5T)\n",
    "\n",
    "P = np.array([P01, P12, P23, P34, P45, P5T]).T\n",
    "H = np.array([ez, -ey, -ey, -ey, -ex]).T\n",
    "print(P,H)\n",
    "limits = np.array([0,180] * 6).reshape(6, 2)\n",
    "limits[4, :] = [0, 270]\n",
    "print(limits)"
   ]
  },
  {
   "cell_type": "code",
   "execution_count": 8,
   "id": "857fe777-3c1d-46e7-ad1f-8dabfe6d317f",
   "metadata": {},
   "outputs": [],
   "source": [
    "from Robot import UR5Arm\n",
    "dofbot = UR5Arm(P, H, limits)"
   ]
  },
  {
   "cell_type": "markdown",
   "id": "767292c8-2f7d-4c1d-9e4b-04a316c2d087",
   "metadata": {},
   "source": [
    "During the Training Cycle, the following steps are performed for each epoch:\n",
    "1. Initialize the Robot to a random state.\n",
    "2. select a random end effector position that is valid and not self colliding\n",
    "3. The robot can takes 1 action in a continuous action space for each joint:\n",
    "   - the DDPG network outputs a value between -5 and 5 and the arm is commanded to\n",
    "     move each servo that angle amount\n",
    "4. observe the robot move "
   ]
  },
  {
   "cell_type": "code",
   "execution_count": null,
   "id": "3b19a586-5a13-481b-aa04-f2aa3b1f9bf3",
   "metadata": {},
   "outputs": [],
   "source": [
    "def collision_check(arm: Arm):\n",
    "    pass"
   ]
  },
  {
   "cell_type": "code",
   "execution_count": null,
   "id": "c0ef10ca-6f99-484d-8685-6ee683c6dc12",
   "metadata": {},
   "outputs": [],
   "source": [
    "\n",
    "def train(episodes: int, virtual_arm: UR5Arm, real_arm: Arm):\n",
    "\n",
    "    ms_per_angle = 6\n",
    "    # coefficient for time weight\n",
    "    t_coeff = 0.1\n",
    "    q_network = DQN().to(device)\n",
    "\n",
    "    # optimization and ML constants\n",
    "    for ep in episodes:\n",
    "        # select target destination for arm\n",
    "        \"\"\"\n",
    "        target_end_effector is used to evaluate the model.\n",
    "        The farther the euclidean distance from the end effector,\n",
    "        the lower the reward.\n",
    "        \"\"\"\n",
    "        collision = True\n",
    "        target_angles = np.zeros(5,1)\n",
    "        while not collision:\n",
    "            target_angles = np.random.rand(5, 1) * virtual_arm.get_limits()[:,1].flatten())\n",
    "            collision = collision_check(arm, target_angles)\n",
    "        target_end_effector_pose = fwdkin(dofbot, target_angles)\n",
    "\n",
    "        \"\"\"\n",
    "        the state are the current servo\n",
    "        \"\"\"\n",
    "        start_collision = True\n",
    "        starting_angles = np.zeros(5,1)\n",
    "        while not start_collision:\n",
    "            starting_angles = np.random.rand(5, 1) * virtual_arm.get_limits()[:,1].flatten())\n",
    "            collision = collision_check(arm, starting_angles)\n",
    "        \n",
    "        # initialize the arm to a random state. \n",
    "        set_angles(real_arm, starting_angles, [1000] * 5)\n",
    "\n",
    "        # allow the arm to move for 5 seconds\n",
    "        time_start = time.time()\n",
    "        elapsed_time = 0\n",
    "        while(elapsed_time - time_start < 10):\n",
    "            curr_angles = readAllActualJointAngles()\n",
    "            current_end_effector_pose = fwdkin(dofbot, curr_angles)\n",
    "    \n",
    "            observations = curr_angles, current_end_effector_pose, target_end_effector_pose\n",
    "            dq = q_network(observations)\n",
    "\n",
    "            next_angles = curr_angles + dq\n",
    "            \"\"\"\n",
    "            TO DO \n",
    "            check the joint limits and \n",
    "            penalize if the network tried to go over the joint limits\n",
    "            \"\"\"\n",
    "            set_angles(real_arm, next_angles, dq * ms_per_angle)\n",
    "            \n",
    "            loss = np.linalg.norm(target_angles - curr_angles) + tcoef * elapsed_time\n",
    "            \"\"\"\n",
    "            TO DO\n",
    "            gradient descent on the q network here based on loss\n",
    "            \"\"\"          \n",
    "        \n"
   ]
  },
  {
   "cell_type": "code",
   "execution_count": null,
   "id": "5381c82d-0e20-4b53-b4ef-efe958ddd5c6",
   "metadata": {},
   "outputs": [],
   "source": []
  }
 ],
 "metadata": {
  "kernelspec": {
   "display_name": "Python 3 (ipykernel)",
   "language": "python",
   "name": "python3"
  },
  "language_info": {
   "codemirror_mode": {
    "name": "ipython",
    "version": 3
   },
   "file_extension": ".py",
   "mimetype": "text/x-python",
   "name": "python",
   "nbconvert_exporter": "python",
   "pygments_lexer": "ipython3",
   "version": "3.10.8"
  }
 },
 "nbformat": 4,
 "nbformat_minor": 5
}
