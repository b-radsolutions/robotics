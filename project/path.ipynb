{
 "cells": [
  {
   "cell_type": "code",
   "execution_count": 1,
   "metadata": {},
   "outputs": [],
   "source": [
    "import numpy as np\n",
    "from Robot import UR5Arm\n",
    "from fwdkin import fwdkin\n",
    "import math"
   ]
  },
  {
   "cell_type": "code",
   "execution_count": 2,
   "metadata": {},
   "outputs": [
    {
     "name": "stdout",
     "output_type": "stream",
     "text": [
      "[[ 0.       0.       0.08285 -0.       0.      -0.12842]\n",
      " [ 0.       0.       0.      -0.       0.      -0.     ]\n",
      " [ 0.1045   0.       0.      -0.08285  0.      -0.     ]] [[ 0  0  0  0 -1]\n",
      " [ 0 -1 -1 -1  0]\n",
      " [ 1  0  0  0  0]]\n"
     ]
    }
   ],
   "source": [
    "ex = np.array([1,0,0])\n",
    "ey = np.array([0,1,0])\n",
    "ez = np.array([0,0,1])\n",
    "l0 = 0.061 # base to servo 1\n",
    "l1 = 0.0435 # servo 1 to servo 2\n",
    "l2 = 0.08285 # servo 2 to servo 3\n",
    "l3 = 0.08285 # servo 3 to servo 4\n",
    "l4 = 0.07385 # servo 4 to servo 5\n",
    "l5 = 0.05457 # servo 5 to gripper\n",
    "P01 = ( l0 + l1 ) * ez \n",
    "P12 = np.zeros (3) # translation between 1 and 2 frame in 1 frame\n",
    "P23 = l2 * ex # translation between 2 and 3 frame in 2 frame\n",
    "P34 = - l3 * ez # translation between 3 and 4 frame in 3 frame\n",
    "P45 = np.zeros (3) # translation between 4 and 5 frame in 4 frame\n",
    "P5T = -( l4 + l5 ) * ex \n",
    "\n",
    "P = np.array([P01, P12, P23, P34, P45, P5T]).T\n",
    "H = np.array([ez, -ey, -ey, -ey, -ex]).T\n",
    "print(P,H)\n",
    "limits = None \n",
    "dofbot = UR5Arm(P, H, limits)"
   ]
  },
  {
   "cell_type": "code",
   "execution_count": 3,
   "metadata": {},
   "outputs": [
    {
     "name": "stdout",
     "output_type": "stream",
     "text": [
      "[[ 3.73149777e-01 -1.98407256e-01 -9.06307787e-01 -1.08848143e-01]\n",
      " [-8.00222279e-01  4.25485733e-01 -4.22618262e-01  2.33425596e-01]\n",
      " [ 4.69471563e-01  8.82947593e-01 -9.80268747e-17  4.79856474e-02]\n",
      " [ 0.00000000e+00  0.00000000e+00  0.00000000e+00  1.00000000e+00]]\n",
      "[[-9.61481343e-17 -5.55111512e-17 -1.00000000e+00  2.53060592e-17]\n",
      " [-8.66025404e-01  5.00000000e-01  5.55111512e-17  2.27936718e-01]\n",
      " [ 5.00000000e-01  8.66025404e-01 -9.61481343e-17  5.05018286e-02]\n",
      " [ 0.00000000e+00  0.00000000e+00  0.00000000e+00  1.00000000e+00]]\n"
     ]
    }
   ],
   "source": [
    "start = np.array([90, 90, 90, 90, 90])[None].T*math.pi/180\n",
    "hover = [90, 40, 40, 90, 90]\n",
    "hover_right = [65, 40, 40, 90, 90]\n",
    "hover_2 = [62, 61, -13, 100, 90]\n",
    "\n",
    "red = np.array([115, 31, 31, 90, 90])[None].T*math.pi/180\n",
    "yellow = np.array([62, 31, 31, 90, 90])[None].T*math.pi/180\n",
    "green = np.array([62, 31, 31, 90, 90])[None].T*math.pi/180\n",
    "\n",
    "H_red = fwdkin(dofbot, red)\n",
    "print(H_red)\n",
    "block1 = np.array([90, 31, 31, 90, 90])[None].T*math.pi/180\n",
    "block2 = np.array([90, 50, 0, 100, 90])[None].T*math.pi/180\n",
    "block3 = np.array([90, 50, 0, 100, 90])[None].T*math.pi/180\n",
    "print(fwdkin(dofbot, block3))\n"
   ]
  },
  {
   "cell_type": "code",
   "execution_count": 4,
   "metadata": {},
   "outputs": [],
   "source": [
    "def get_RP(H):\n",
    "    return H[:3,:3], H[:3, -1]"
   ]
  },
  {
   "cell_type": "code",
   "execution_count": 5,
   "metadata": {},
   "outputs": [
    {
     "name": "stdout",
     "output_type": "stream",
     "text": [
      "[[-3.69778549e-32 -2.22044605e-16 -1.00000000e+00]\n",
      " [-3.33066907e-16 -1.00000000e+00  2.22044605e-16]\n",
      " [-1.00000000e+00  3.33066907e-16 -3.69778549e-32]] [7.81231141e-33 7.03670455e-17 3.98620000e-01]\n",
      "[[ 3.73149777e-01 -1.98407256e-01 -9.06307787e-01]\n",
      " [-8.00222279e-01  4.25485733e-01 -4.22618262e-01]\n",
      " [ 4.69471563e-01  8.82947593e-01 -9.80268747e-17]] [-0.10884814  0.2334256   0.04798565]\n",
      "[[-0.5566704  -0.24620194 -0.79341204]\n",
      " [-0.66341395  0.70658796  0.24620194]\n",
      " [ 0.5         0.66341395 -0.5566704 ]] [0.15816513 0.18849386 0.11814353]\n",
      "[-5.93641222e-08  1.31662043e-08 -3.82107213e-09  2.14878152e-05\n",
      "  9.68848149e-05 -7.24935068e-07]\n",
      "Inverse Kinematics Converged after 166 iterations\n",
      "[1.35254194 1.57309424 1.56500276 1.57429191 1.78905071]\n",
      "q_0 converged\n",
      "[[-0.5566704  -0.24620194 -0.79341204]\n",
      " [-0.66341395  0.70658796  0.24620194]\n",
      " [ 0.5         0.66341395 -0.5566704 ]] [0.15816513 0.18849386 0.11814353]\n",
      "[-2.31169100e-05 -3.32140387e-05 -4.08460158e-05  4.41944037e-05\n",
      " -6.33025492e-05 -9.93963287e-05]\n",
      "Inverse Kinematics Converged after 93 iterations\n",
      "Path following errors:\n",
      "[array([-98.64745806, -50.42690576, -49.43499724, -89.42570809,\n",
      "       -91.21094929]), array([-105.4838243 ,  -39.68484456,  -37.69145258,  -89.4261948 ,\n",
      "        -88.26551864]), array([-112.32019054,  -28.94278337,  -29.94790792,  -89.42668151,\n",
      "        -88.32008799]), array([-112.15655678,  -29.20072218,  -30.20436326,  -89.42716822,\n",
      "        -88.37465735]), array([-111.99292302,  -29.45866099,  -30.46081861,  -89.42765493,\n",
      "        -88.4292267 ])]\n",
      "passed Path Following\n"
     ]
    }
   ],
   "source": [
    "from path_planning import path_planner\n",
    "from Arm_Lib import Arm_Device\n",
    "\n",
    "Arm = Arm_Device()\n",
    "\n",
    "H_start = fwdkin(dofbot, start)\n",
    "R_start, P_start = get_RP(H_start)\n",
    "print(R_start, P_start)\n",
    "\n",
    "H_red = fwdkin(dofbot, red)\n",
    "R_red, P_red = get_RP(H_red)\n",
    "print(R_red, P_red)\n",
    "\n",
    "path_planner(Arm, dofbot, 5, R_start, P_start, R_red, P_red, 0.000001, 0.00000001, 0.00000001,90, 1500)\n",
    "# path_planner(Arm, dofbot, 5, red, hover, 0.000001, 0.00000001, 0.00000001,135, 1500)\n",
    "# path_planner(Arm, dofbot, 5, hover, block1, 0.000001, 0.00000001, 0.00000001,135, 1500)\n",
    "# path_planner(Arm, dofbot, 5, block1, hover, 0.000001, 0.00000001, 0.00000001, 90, 1500)\n",
    "# path_planner(Arm, dofbot, 5, hover_right, yellow, 0.000001, 0.00000001, 0.00000001, 90, 1500)\n",
    "# path_planner(Arm, dofbot, 5, yellow, hover_2, 0.000001, 0.00000001, 0.00000001, 135, 1500)\n",
    "# path_planner(Arm, dofbot, 5, hover_2, block2, 0.000001, 0.00000001, 0.00000001, 135, 1500)\n",
    "# path_planner(Arm, dofbot, 5, hover, block2, 0.000001, 0.00000001, 0.00000001, 90, 1500)\n",
    "\n",
    "#path_planner(5, red_open, start, 0.000001, 0.00000001, 0.00000001)\n",
    "#path_planner(5, start, block1_closed, 0.000001, 0.00000001, 0.00000001)\n",
    "#path_planner(5, block1_closed, start, 0.000001, 0.00000001, 0.00000001)\n",
    "#path_planner(5, start, yellow_closed, 0.000001, 0.00000001, 0.00000001)\n",
    "#Arm.Arm_serial_servo_write6(red[0], red[1], red[2], red[3], red[4], 135, 1500)\n",
    "print(\"passed Path Following\")"
   ]
  },
  {
   "cell_type": "markdown",
   "metadata": {},
   "source": [
    "# "
   ]
  },
  {
   "cell_type": "code",
   "execution_count": null,
   "metadata": {},
   "outputs": [],
   "source": []
  }
 ],
 "metadata": {
  "kernelspec": {
   "display_name": "Python 3",
   "language": "python",
   "name": "python3"
  },
  "language_info": {
   "codemirror_mode": {
    "name": "ipython",
    "version": 3
   },
   "file_extension": ".py",
   "mimetype": "text/x-python",
   "name": "python",
   "nbconvert_exporter": "python",
   "pygments_lexer": "ipython3",
   "version": "3.6.9"
  }
 },
 "nbformat": 4,
 "nbformat_minor": 4
}
