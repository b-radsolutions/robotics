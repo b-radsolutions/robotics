{
 "cells": [
  {
   "cell_type": "code",
   "execution_count": 1,
   "id": "8121fd55-796a-4849-b3b1-ba0c3ccb9fe9",
   "metadata": {},
   "outputs": [],
   "source": [
    "import numpy as np\n",
    "from Robot import UR5Arm\n",
    "from fwdkin import fwdkin"
   ]
  },
  {
   "cell_type": "code",
   "execution_count": 2,
   "id": "22987edf-ef2f-4e6a-bbeb-42cc5c8f362d",
   "metadata": {},
   "outputs": [],
   "source": [
    "ex = np.array([1,0,0])\n",
    "ey = np.array([0,1,0])\n",
    "ez = np.array([0,0,1])\n",
    "l0 = 0.061 # base to servo 1\n",
    "l1 = 0.0435 # servo 1 to servo 2\n",
    "l2 = 0.08285 # servo 2 to servo 3\n",
    "l3 = 0.08285 # servo 3 to servo 4\n",
    "l4 = 0.07385 # servo 4 to servo 5\n",
    "l5 = 0.05457 # servo 5 to gripper\n",
    "P01 = ( l0 + l1 ) * ez \n",
    "P12 = np . zeros (3 ,) # translation between 1 and 2 frame in 1 frame\n",
    "P23 = l2 * ex # translation between 2 and 3 frame in 2 frame\n",
    "P34 = - l3 * ez # translation between 3 and 4 frame in 3 frame\n",
    "P45 = np . zeros (3 ,) # translation between 4 and 5 frame in 4 frame\n",
    "P5T = -( l4 + l5 ) * ex "
   ]
  },
  {
   "cell_type": "code",
   "execution_count": 3,
   "id": "a9d74b1b-6d1b-4c3c-b8a5-240bc684c42d",
   "metadata": {},
   "outputs": [
    {
     "name": "stdout",
     "output_type": "stream",
     "text": [
      "[[ 0.       0.       0.08285 -0.       0.      -0.12842]\n",
      " [ 0.       0.       0.      -0.       0.      -0.     ]\n",
      " [ 0.1045   0.       0.      -0.08285  0.      -0.     ]] [[ 1  0  0  0  0]\n",
      " [ 0 -1 -1 -1 -1]\n",
      " [ 0  0  0  0  0]]\n"
     ]
    }
   ],
   "source": [
    "P = np.array([P01, P12, P23, P34, P45, P5T]).T\n",
    "H = np.array([ex, -ey, -ey, -ey, -ey]).T\n",
    "print(P,H)\n",
    "limits = None \n",
    "dofbot = UR5Arm(P, H, limits)"
   ]
  },
  {
   "cell_type": "code",
   "execution_count": 4,
   "id": "bf2dc82f-07e4-4e89-90b7-c5c0169350b6",
   "metadata": {},
   "outputs": [
    {
     "name": "stdout",
     "output_type": "stream",
     "text": [
      "[[-0.28369109  0.          0.95891572  0.06568421]\n",
      " [-0.85726746 -0.44807362 -0.25361889  0.08820059]\n",
      " [ 0.42966484 -0.89399666  0.12711449  0.06029362]\n",
      " [ 0.          0.          0.          1.        ]]\n"
     ]
    }
   ],
   "source": [
    "theta = np.array([90,90,90,90,90])\n",
    "print(fwdkin(dofbot, theta))"
   ]
  },
  {
   "cell_type": "code",
   "execution_count": 5,
   "id": "7e74cee6-d2fc-4d09-8b6d-c9d8d762d506",
   "metadata": {},
   "outputs": [
    {
     "name": "stdout",
     "output_type": "stream",
     "text": [
      "[[ 1.       0.       0.      -0.04557]\n",
      " [ 0.       1.       0.       0.     ]\n",
      " [ 0.       0.       1.       0.02165]\n",
      " [ 0.       0.       0.       1.     ]]\n"
     ]
    }
   ],
   "source": [
    "theta = np.array([0,0,0,0,0])\n",
    "print(fwdkin(dofbot, theta))"
   ]
  },
  {
   "cell_type": "code",
   "execution_count": 6,
   "id": "230274fc-2d64-4697-9478-44bb89ca33b9",
   "metadata": {},
   "outputs": [
    {
     "ename": "TypeError",
     "evalue": "'tuple' object cannot be interpreted as an integer",
     "output_type": "error",
     "traceback": [
      "\u001b[0;31m---------------------------------------------------------------------------\u001b[0m",
      "\u001b[0;31mTypeError\u001b[0m                                 Traceback (most recent call last)",
      "Cell \u001b[0;32mIn[6], line 1\u001b[0m\n\u001b[0;32m----> 1\u001b[0m target \u001b[38;5;241m=\u001b[39m \u001b[43mnp\u001b[49m\u001b[38;5;241;43m.\u001b[39;49m\u001b[43mrandom\u001b[49m\u001b[38;5;241;43m.\u001b[39;49m\u001b[43mrand\u001b[49m\u001b[43m(\u001b[49m\u001b[43m(\u001b[49m\u001b[38;5;241;43m3\u001b[39;49m\u001b[43m,\u001b[49m\u001b[38;5;241;43m3\u001b[39;49m\u001b[43m)\u001b[49m\u001b[43m)\u001b[49m\n",
      "File \u001b[0;32mmtrand.pyx:1202\u001b[0m, in \u001b[0;36mnumpy.random.mtrand.RandomState.rand\u001b[0;34m()\u001b[0m\n",
      "File \u001b[0;32mmtrand.pyx:436\u001b[0m, in \u001b[0;36mnumpy.random.mtrand.RandomState.random_sample\u001b[0;34m()\u001b[0m\n",
      "File \u001b[0;32m_common.pyx:307\u001b[0m, in \u001b[0;36mnumpy.random._common.double_fill\u001b[0;34m()\u001b[0m\n",
      "\u001b[0;31mTypeError\u001b[0m: 'tuple' object cannot be interpreted as an integer"
     ]
    }
   ],
   "source": [
    "target = np.random.rand((3,3))"
   ]
  },
  {
   "cell_type": "code",
   "execution_count": null,
   "id": "045f81f6-90ee-4db4-9e34-863e9fcc8f5d",
   "metadata": {},
   "outputs": [],
   "source": []
  }
 ],
 "metadata": {
  "kernelspec": {
   "display_name": "Python 3 (ipykernel)",
   "language": "python",
   "name": "python3"
  },
  "language_info": {
   "codemirror_mode": {
    "name": "ipython",
    "version": 3
   },
   "file_extension": ".py",
   "mimetype": "text/x-python",
   "name": "python",
   "nbconvert_exporter": "python",
   "pygments_lexer": "ipython3",
   "version": "3.10.8"
  }
 },
 "nbformat": 4,
 "nbformat_minor": 5
}
