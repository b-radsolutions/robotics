{
 "cells": [
  {
   "cell_type": "code",
   "execution_count": 1,
   "id": "8121fd55-796a-4849-b3b1-ba0c3ccb9fe9",
   "metadata": {},
   "outputs": [],
   "source": [
    "import numpy as np\n",
    "from Robot import UR5Arm\n",
    "from fwdkin import fwdkin\n",
    "from invkin import invkin\n",
    "import math"
   ]
  },
  {
   "cell_type": "code",
   "execution_count": 2,
   "id": "22987edf-ef2f-4e6a-bbeb-42cc5c8f362d",
   "metadata": {},
   "outputs": [
    {
     "name": "stdout",
     "output_type": "stream",
     "text": [
      "[0.     0.     0.1045] [0. 0. 0.] [0.08285 0.      0.     ] [-0.      -0.      -0.08285] [0. 0. 0.] [-0.12842 -0.      -0.     ]\n"
     ]
    }
   ],
   "source": [
    "ex = np.array([1,0,0])\n",
    "ey = np.array([0,1,0])\n",
    "ez = np.array([0,0,1])\n",
    "l0 = 0.061 # base to servo 1\n",
    "l1 = 0.0435 # servo 1 to servo 2\n",
    "l2 = 0.08285 # servo 2 to servo 3\n",
    "l3 = 0.08285 # servo 3 to servo 4\n",
    "l4 = 0.07385 # servo 4 to servo 5\n",
    "l5 = 0.05457 # servo 5 to gripper\n",
    "P01 = ( l0 + l1 ) * ez \n",
    "P12 = np.zeros (3) # translation between 1 and 2 frame in 1 frame\n",
    "P23 = l2 * ex # translation between 2 and 3 frame in 2 frame\n",
    "P34 = - l3 * ez # translation between 3 and 4 frame in 3 frame\n",
    "P45 = np.zeros (3) # translation between 4 and 5 frame in 4 frame\n",
    "P5T = -( l4 + l5 ) * ex \n",
    "print(P01,P12,P23,P34,P45,P5T)"
   ]
  },
  {
   "cell_type": "code",
   "execution_count": 3,
   "id": "a9d74b1b-6d1b-4c3c-b8a5-240bc684c42d",
   "metadata": {},
   "outputs": [
    {
     "name": "stdout",
     "output_type": "stream",
     "text": [
      "[[ 0.       0.       0.08285 -0.       0.      -0.12842]\n",
      " [ 0.       0.       0.      -0.       0.      -0.     ]\n",
      " [ 0.1045   0.       0.      -0.08285  0.      -0.     ]] [[ 0  0  0  0 -1]\n",
      " [ 0 -1 -1 -1  0]\n",
      " [ 1  0  0  0  0]]\n"
     ]
    }
   ],
   "source": [
    "P = np.array([P01, P12, P23, P34, P45, P5T]).T\n",
    "H = np.array([ez, -ey, -ey, -ey, -ex]).T\n",
    "print(P,H)\n",
    "limits = None \n",
    "dofbot = UR5Arm(P, H, limits)"
   ]
  },
  {
   "cell_type": "code",
   "execution_count": 4,
   "id": "bf2dc82f-07e4-4e89-90b7-c5c0169350b6",
   "metadata": {},
   "outputs": [
    {
     "name": "stdout",
     "output_type": "stream",
     "text": [
      "[[1.57079633]\n",
      " [1.57079633]\n",
      " [1.57079633]\n",
      " [1.57079633]\n",
      " [1.57079633]]\n",
      "(5, 1)\n",
      "[[-0.     -0.     -1.      0.    ]\n",
      " [-0.     -1.      0.      0.    ]\n",
      " [-1.      0.     -0.      0.3986]\n",
      " [ 0.      0.      0.      1.    ]]\n"
     ]
    }
   ],
   "source": [
    "theta = np.array([90,90,90,90,90])[None].T*math.pi/180\n",
    "print(theta)\n",
    "print(theta.shape)\n",
    "T = np.around(fwdkin(dofbot, theta), 4)\n",
    "print(T)"
   ]
  },
  {
   "cell_type": "code",
   "execution_count": 7,
   "id": "7e74cee6-d2fc-4d09-8b6d-c9d8d762d506",
   "metadata": {
    "scrolled": true
   },
   "outputs": [
    {
     "name": "stdout",
     "output_type": "stream",
     "text": [
      "[0.14939045 0.         0.33674045] [[-0.70710678 -0.5        -0.5       ]\n",
      " [ 0.         -0.70710678  0.70710678]\n",
      " [-0.70710678  0.5         0.5       ]]\n",
      "[[0.87266463]\n",
      " [0.87266463]\n",
      " [0.87266463]\n",
      " [0.87266463]\n",
      " [0.87266463]]\n",
      "[[-0.5566704  -0.24620194 -0.79341204]\n",
      " [-0.66341395  0.70658796  0.24620194]\n",
      " [ 0.5         0.66341395 -0.5566704 ]] [0.15816513 0.18849386 0.11814353]\n",
      "[-9.72819666e-05 -1.64943387e-05  1.87312419e-05  1.04041371e-05\n",
      "  1.73327121e-05 -5.79741676e-06]\n",
      "Inverse Kinematics Converged after 94 iterations\n",
      "[[1.16014813e-04]\n",
      " [7.85273655e-01]\n",
      " [2.35626337e+00]\n",
      " [7.85470281e-01]\n",
      " [2.35605691e+00]]\n",
      "before: \n",
      "[[-0.70710678 -0.5        -0.5         0.14939045]\n",
      " [ 0.         -0.70710678  0.70710678  0.        ]\n",
      " [-0.70710678  0.5         0.5         0.33674045]\n",
      " [ 0.          0.          0.          1.        ]]\n",
      "after: \n",
      "[[-0.707 -0.5   -0.5    0.149]\n",
      " [-0.    -0.707  0.707  0.   ]\n",
      " [-0.707  0.5    0.5    0.337]\n",
      " [ 0.     0.     0.     1.   ]]\n"
     ]
    }
   ],
   "source": [
    "theta = np.array([0,45,135,45,135])[None].T*math.pi/180\n",
    "T_0 = fwdkin(dofbot, theta)\n",
    "Rd = T_0[:3, :3]\n",
    "Pd = T_0[:3, -1]\n",
    "print(Pd, Rd)\n",
    "q0 = np.array([50,50,50,50,50])[None].T*math.pi/180\n",
    "print(q0)\n",
    "truth, rv = invkin(dofbot, Rd, Pd, q0)\n",
    "print(rv)\n",
    "print(f\"before: \\n{T_0}\")\n",
    "print(f\"after: \\n{np.around(fwdkin(dofbot, rv),3)}\")\n"
   ]
  },
  {
   "cell_type": "code",
   "execution_count": null,
   "id": "4b1d44c7-ff20-45cf-b852-b5cdb175f9ce",
   "metadata": {},
   "outputs": [],
   "source": []
  }
 ],
 "metadata": {
  "kernelspec": {
   "display_name": "Python 3 (ipykernel)",
   "language": "python",
   "name": "python3"
  },
  "language_info": {
   "codemirror_mode": {
    "name": "ipython",
    "version": 3
   },
   "file_extension": ".py",
   "mimetype": "text/x-python",
   "name": "python",
   "nbconvert_exporter": "python",
   "pygments_lexer": "ipython3",
   "version": "3.10.8"
  }
 },
 "nbformat": 4,
 "nbformat_minor": 5
}
