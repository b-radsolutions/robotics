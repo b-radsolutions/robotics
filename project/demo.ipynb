{
 "cells": [
  {
   "cell_type": "code",
   "execution_count": 1,
   "metadata": {},
   "outputs": [],
   "source": [
    "import numpy as np\n",
    "from Robot import UR5Arm\n",
    "from fwdkin import fwdkin\n",
    "from invkin import invkin\n",
    "import math"
   ]
  },
  {
   "cell_type": "code",
   "execution_count": 2,
   "metadata": {},
   "outputs": [
    {
     "name": "stdout",
     "output_type": "stream",
     "text": [
      "[0.     0.     0.1045] [0. 0. 0.] [0.08285 0.      0.     ] [-0.      -0.      -0.08285] [0. 0. 0.] [-0.12842 -0.      -0.     ]\n"
     ]
    }
   ],
   "source": [
    "ex = np.array([1,0,0])\n",
    "ey = np.array([0,1,0])\n",
    "ez = np.array([0,0,1])\n",
    "l0 = 0.061 # base to servo 1\n",
    "l1 = 0.0435 # servo 1 to servo 2\n",
    "l2 = 0.08285 # servo 2 to servo 3\n",
    "l3 = 0.08285 # servo 3 to servo 4\n",
    "l4 = 0.07385 # servo 4 to servo 5\n",
    "l5 = 0.05457 # servo 5 to gripper\n",
    "P01 = ( l0 + l1 ) * ez \n",
    "P12 = np.zeros (3) # translation between 1 and 2 frame in 1 frame\n",
    "P23 = l2 * ex # translation between 2 and 3 frame in 2 frame\n",
    "P34 = - l3 * ez # translation between 3 and 4 frame in 3 frame\n",
    "P45 = np.zeros (3) # translation between 4 and 5 frame in 4 frame\n",
    "P5T = -( l4 + l5 ) * ex \n",
    "print(P01,P12,P23,P34,P45,P5T)"
   ]
  },
  {
   "cell_type": "code",
   "execution_count": 3,
   "metadata": {},
   "outputs": [
    {
     "name": "stdout",
     "output_type": "stream",
     "text": [
      "[[ 0.       0.       0.08285 -0.       0.      -0.12842]\n",
      " [ 0.       0.       0.      -0.       0.      -0.     ]\n",
      " [ 0.1045   0.       0.      -0.08285  0.      -0.     ]] [[ 0  0  0  0 -1]\n",
      " [ 0 -1 -1 -1  0]\n",
      " [ 1  0  0  0  0]]\n"
     ]
    }
   ],
   "source": [
    "P = np.array([P01, P12, P23, P34, P45, P5T]).T\n",
    "H = np.array([ez, -ey, -ey, -ey, -ex]).T\n",
    "print(P,H)\n",
    "limits = None \n",
    "dofbot = UR5Arm(P, H, limits)"
   ]
  },
  {
   "cell_type": "code",
   "execution_count": 11,
   "metadata": {},
   "outputs": [
    {
     "name": "stdout",
     "output_type": "stream",
     "text": [
      "[[1.57079633]\n",
      " [1.57079633]\n",
      " [1.57079633]\n",
      " [1.57079633]\n",
      " [1.57079633]]\n",
      "(5, 1)\n",
      "[[-0. -0. -1.]\n",
      " [-0. -1.  0.]\n",
      " [-1.  0. -0.]] [0.     0.     0.3986]\n"
     ]
    }
   ],
   "source": [
    "theta = np.array([90,90,90,90,90])[None].T*math.pi/180\n",
    "R, P = fwdkin(dofbot, theta)\n",
    "print(np.around(R,4), np.around(P,4))"
   ]
  },
  {
   "cell_type": "code",
   "execution_count": 13,
   "metadata": {
    "scrolled": true
   },
   "outputs": [
    {
     "name": "stdout",
     "output_type": "stream",
     "text": [
      "here [7.81231141e-33 7.03670455e-17 3.98620000e-01] [[-3.69778549e-32 -2.22044605e-16 -1.00000000e+00]\n",
      " [-3.33066907e-16 -1.00000000e+00  2.22044605e-16]\n",
      " [-1.00000000e+00  3.33066907e-16 -3.69778549e-32]]\n",
      "[[0.87266463]\n",
      " [0.87266463]\n",
      " [0.87266463]\n",
      " [0.87266463]\n",
      " [0.87266463]]\n",
      "[[-0.5566704  -0.24620194 -0.79341204]\n",
      " [-0.66341395  0.70658796  0.24620194]\n",
      " [ 0.5         0.66341395 -0.5566704 ]] [0.15816513 0.18849386 0.11814353]\n",
      "[-5.93641222e-08  1.31662043e-08 -3.82107213e-09  2.14878152e-05\n",
      "  9.68848149e-05 -7.24935068e-07]\n",
      "Inverse Kinematics Converged after 166 iterations\n",
      "[[1.35254194]\n",
      " [1.57309424]\n",
      " [1.56500276]\n",
      " [1.57429191]\n",
      " [1.78905071]]\n",
      "before: \n",
      "(array([[-0., -0., -1.],\n",
      "       [-0., -1.,  0.],\n",
      "       [-1.,  0., -0.]]), array([0.   , 0.   , 0.399]))\n",
      "after: \n",
      "[[1.35254194]\n",
      " [1.57309424]\n",
      " [1.56500276]\n",
      " [1.57429191]\n",
      " [1.78905071]]\n"
     ]
    }
   ],
   "source": [
    "theta = np.array([90,90,90,90,90])[None].T*math.pi/180\n",
    "Rd, Pd = fwdkin(dofbot, theta)\n",
    "print(\"here\", Pd, Rd)\n",
    "q0 = np.array([50,50,50,50,50])[None].T*math.pi/180\n",
    "print(q0)\n",
    "truth, rv = invkin(dofbot, Rd, Pd, q0)\n",
    "print(rv)\n",
    "print(f\"before: \\n{np.around(R,3), np.around(P,3)}\")\n",
    "print(f\"after: \\n{rv}\")"
   ]
  },
  {
   "cell_type": "code",
   "execution_count": null,
   "metadata": {},
   "outputs": [],
   "source": []
  }
 ],
 "metadata": {
  "kernelspec": {
   "display_name": "Python 3",
   "language": "python",
   "name": "python3"
  },
  "language_info": {
   "codemirror_mode": {
    "name": "ipython",
    "version": 3
   },
   "file_extension": ".py",
   "mimetype": "text/x-python",
   "name": "python",
   "nbconvert_exporter": "python",
   "pygments_lexer": "ipython3",
   "version": "3.6.9"
  }
 },
 "nbformat": 4,
 "nbformat_minor": 5
}
